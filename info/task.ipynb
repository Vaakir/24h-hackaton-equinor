{
 "cells": [
  {
   "cell_type": "markdown",
   "metadata": {},
   "source": [
    "### Main task:\n",
    "- Visualiser \"dagens” energikurve. Kraftbehov i kWh plottet mot tid i timer med data fra Statnett sine sider.\n",
    "- La spilleren kunne velge ulike energiformer og hvor mye installert effekt det er av hver enkelt energikilde.\n",
    "- Simulere og visualisere denne sammensetningen opp mot behovet per\n",
    "- Reflektere over hva som er de største utfordringene i energi-modellering og energimarkedet i dag.\n",
    "- Ha en interaktiv applikasjon på mobil eller web som kan vises i en live demo.\n",
    "\n",
    "#### Bonus\n",
    "- Bruke realistiske data for sol og vind-produksjon. Finne datagrunnlag for dette.\n",
    "- Legge på en økonomisk kost for hver kraft-kilde. Finne datagrunnlag for dette.\n",
    "- Legge på kost i form av CO2-utslipp for hver kraft-kilde. Finne datagrunnlag for dette.\n",
    "- Ta kabler og geografisk utstrekning inn i beregningen. Eksport / import kabler mellom områder med ulikt produksjon / behov.\n",
    "- Innovasjon: Pek på en side av dagens energisystem som kan forbedres og kommuniser dette gjennom spillet."
   ]
  },
  {
   "cell_type": "code",
   "execution_count": 2,
   "metadata": {},
   "outputs": [
    {
     "data": {
      "text/html": [
       "<div>\n",
       "<style scoped>\n",
       "    .dataframe tbody tr th:only-of-type {\n",
       "        vertical-align: middle;\n",
       "    }\n",
       "\n",
       "    .dataframe tbody tr th {\n",
       "        vertical-align: top;\n",
       "    }\n",
       "\n",
       "    .dataframe thead th {\n",
       "        text-align: right;\n",
       "    }\n",
       "</style>\n",
       "<table border=\"1\" class=\"dataframe\">\n",
       "  <thead>\n",
       "    <tr style=\"text-align: right;\">\n",
       "      <th></th>\n",
       "      <th>consequence</th>\n",
       "      <th>probability</th>\n",
       "      <th>expected_impact</th>\n",
       "    </tr>\n",
       "  </thead>\n",
       "  <tbody>\n",
       "    <tr>\n",
       "      <th>Volatility &amp; price uncertainty</th>\n",
       "      <td>9</td>\n",
       "      <td>9</td>\n",
       "      <td>81</td>\n",
       "    </tr>\n",
       "    <tr>\n",
       "      <th>Supply security</th>\n",
       "      <td>8</td>\n",
       "      <td>8</td>\n",
       "      <td>64</td>\n",
       "    </tr>\n",
       "    <tr>\n",
       "      <th>Renewable transition</th>\n",
       "      <td>9</td>\n",
       "      <td>7</td>\n",
       "      <td>63</td>\n",
       "    </tr>\n",
       "    <tr>\n",
       "      <th>Energy storage limitations</th>\n",
       "      <td>8</td>\n",
       "      <td>7</td>\n",
       "      <td>56</td>\n",
       "    </tr>\n",
       "    <tr>\n",
       "      <th>Regulations &amp; policies</th>\n",
       "      <td>7</td>\n",
       "      <td>8</td>\n",
       "      <td>56</td>\n",
       "    </tr>\n",
       "    <tr>\n",
       "      <th>Investment &amp; financing</th>\n",
       "      <td>7</td>\n",
       "      <td>7</td>\n",
       "      <td>49</td>\n",
       "    </tr>\n",
       "    <tr>\n",
       "      <th>Geopolitical dependencies</th>\n",
       "      <td>8</td>\n",
       "      <td>6</td>\n",
       "      <td>48</td>\n",
       "    </tr>\n",
       "    <tr>\n",
       "      <th>Consumer behavior</th>\n",
       "      <td>6</td>\n",
       "      <td>6</td>\n",
       "      <td>36</td>\n",
       "    </tr>\n",
       "  </tbody>\n",
       "</table>\n",
       "</div>"
      ],
      "text/plain": [
       "                                consequence  probability  expected_impact\n",
       "Volatility & price uncertainty            9            9               81\n",
       "Supply security                           8            8               64\n",
       "Renewable transition                      9            7               63\n",
       "Energy storage limitations                8            7               56\n",
       "Regulations & policies                    7            8               56\n",
       "Investment & financing                    7            7               49\n",
       "Geopolitical dependencies                 8            6               48\n",
       "Consumer behavior                         6            6               36"
      ]
     },
     "metadata": {},
     "output_type": "display_data"
    },
    {
     "name": "stdout",
     "output_type": "stream",
     "text": [
      "None\n"
     ]
    }
   ],
   "source": [
    "# - Reflektere over hva som er de største utfordringene i energi-modellering og energimarkedet i dag.\n",
    "\n",
    "import pandas as pd\n",
    "\n",
    "energy_market_challenges = {\n",
    "    \"Volatility & price uncertainty\": {\"consequence\": 9, \"probability\": 9},\n",
    "    \"Supply security\": {\"consequence\": 8, \"probability\": 8},\n",
    "    \"Renewable transition\": {\"consequence\": 9, \"probability\": 7},\n",
    "    \"Energy storage limitations\": {\"consequence\": 8, \"probability\": 7},\n",
    "    \"Regulations & policies\": {\"consequence\": 7, \"probability\": 8},\n",
    "    \"Investment & financing\": {\"consequence\": 7, \"probability\": 7},\n",
    "    \"Geopolitical dependencies\": {\"consequence\": 8, \"probability\": 6},\n",
    "    \"Consumer behavior\": {\"consequence\": 6, \"probability\": 6}\n",
    "}\n",
    "\n",
    "df = pd.DataFrame(energy_market_challenges).T\n",
    "df[\"expected_impact\"] = df[\"consequence\"] * df[\"probability\"]\n",
    "df = df.sort_values(by=\"expected_impact\", ascending=False)\n",
    "print(display(df))"
   ]
  }
 ],
 "metadata": {
  "kernelspec": {
   "display_name": "base",
   "language": "python",
   "name": "python3"
  },
  "language_info": {
   "codemirror_mode": {
    "name": "ipython",
    "version": 3
   },
   "file_extension": ".py",
   "mimetype": "text/x-python",
   "name": "python",
   "nbconvert_exporter": "python",
   "pygments_lexer": "ipython3",
   "version": "3.11.7"
  }
 },
 "nbformat": 4,
 "nbformat_minor": 2
}
